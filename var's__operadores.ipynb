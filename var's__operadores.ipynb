{
 "cells": [
  {
   "cell_type": "markdown",
   "metadata": {},
   "source": [
    "1) VARIABLES"
   ]
  },
  {
   "cell_type": "markdown",
   "metadata": {},
   "source": [
    "Declarar una variable en Python"
   ]
  },
  {
   "cell_type": "code",
   "execution_count": 3,
   "metadata": {},
   "outputs": [
    {
     "name": "stdout",
     "output_type": "stream",
     "text": [
      "Hi to all's, my name is Katy\n"
     ]
    }
   ],
   "source": [
    "name= \"Katy\"\n",
    "print(\"Hi to all's, my name is\", name)"
   ]
  },
  {
   "cell_type": "code",
   "execution_count": 4,
   "metadata": {},
   "outputs": [
    {
     "data": {
      "text/plain": [
       "'Katy'"
      ]
     },
     "execution_count": 4,
     "metadata": {},
     "output_type": "execute_result"
    }
   ],
   "source": [
    "name"
   ]
  },
  {
   "cell_type": "markdown",
   "metadata": {},
   "source": [
    "Nota: Python no exige declarar el tipado de la variable. En automatico, el reconoce que es un String."
   ]
  },
  {
   "cell_type": "markdown",
   "metadata": {},
   "source": [
    "Python es un lenguaje de programación dinámicamente tipado, lo que significa que el tipo de una variable se determina en tiempo de ejecución, basado en el valor que se le asigna.\n",
    "\n",
    "Con este metodo podemos imprimir el tipo de dato que contiene la variable."
   ]
  },
  {
   "cell_type": "code",
   "execution_count": 5,
   "metadata": {},
   "outputs": [
    {
     "name": "stdout",
     "output_type": "stream",
     "text": [
      "<class 'str'>\n"
     ]
    }
   ],
   "source": [
    "print(type(name))"
   ]
  },
  {
   "cell_type": "markdown",
   "metadata": {},
   "source": [
    "·Podemos cambiar el valor de la variable, simplemente colocando un operador de asignacion con el valor nuevo. Veamos:"
   ]
  },
  {
   "cell_type": "code",
   "execution_count": 7,
   "metadata": {},
   "outputs": [
    {
     "name": "stdout",
     "output_type": "stream",
     "text": [
      "12\n"
     ]
    }
   ],
   "source": [
    "number=12\n",
    "print(number)"
   ]
  },
  {
   "cell_type": "code",
   "execution_count": 8,
   "metadata": {},
   "outputs": [
    {
     "name": "stdout",
     "output_type": "stream",
     "text": [
      "El nuevo valor de esta variable es: 36\n"
     ]
    }
   ],
   "source": [
    "number=36\n",
    "print(\"El nuevo valor de esta variable es:\", number)"
   ]
  },
  {
   "cell_type": "markdown",
   "metadata": {},
   "source": [
    "Recibiendo datos ingresados por el usuario mediante input's."
   ]
  },
  {
   "cell_type": "markdown",
   "metadata": {},
   "source": [
    "Al correr el codigo, debes escribir lo que pide y luego pulsar enter."
   ]
  },
  {
   "cell_type": "code",
   "execution_count": 6,
   "metadata": {},
   "outputs": [],
   "source": [
    "name1= input(\"please, write a number:\")"
   ]
  },
  {
   "cell_type": "code",
   "execution_count": 7,
   "metadata": {},
   "outputs": [
    {
     "name": "stdout",
     "output_type": "stream",
     "text": [
      "El resultado fue keyla\n"
     ]
    }
   ],
   "source": [
    "print(\"The result is:\", name1)"
   ]
  },
  {
   "cell_type": "markdown",
   "metadata": {},
   "source": [
    "2. OPERADORES"
   ]
  },
  {
   "cell_type": "markdown",
   "metadata": {},
   "source": [
    "Son los simbolos para hacer operaciones.  Nota: los operandos ya son las variables."
   ]
  },
  {
   "cell_type": "markdown",
   "metadata": {},
   "source": [
    "EXPRESION\n",
    " Es la combinacion de variables, operandos y operadores que dan un resultado. "
   ]
  },
  {
   "cell_type": "code",
   "execution_count": null,
   "metadata": {},
   "outputs": [],
   "source": [
    "\"Hello\" + \" \" + \"world\"  # Expresión que concatena strings\n",
    "len(\"Python\")  # Expresión que llama a la función len() y evalúa el tamaño del string"
   ]
  },
  {
   "cell_type": "markdown",
   "metadata": {},
   "source": [
    "Operadores Aritmeticos: permiten realizar operaciones aritmeticos"
   ]
  },
  {
   "cell_type": "code",
   "execution_count": null,
   "metadata": {},
   "outputs": [],
   "source": [
    "sum= 4 + 5 #SUMA\n",
    "letra= \"Hola\" + \"\" + \"chica\" #CONCATENAR\n",
    "res= 5 - 7 #RESTA\n",
    "mul= 5 * 5 #MULTIPLICACION\n",
    "div= 15 / 5 #DIVISION (Resultado en coma flotante)\n",
    "div_E= 15 // 5 #DIVISION entera (Resultado entero)\n",
    "exp= 5 ** 3  #Exponenciacion "
   ]
  },
  {
   "cell_type": "markdown",
   "metadata": {},
   "source": [
    "Operador % residuo de la division, veamos:"
   ]
  },
  {
   "cell_type": "markdown",
   "metadata": {},
   "source": [
    "Ejemplo de logica para verificar si un numero es par o impar"
   ]
  },
  {
   "cell_type": "code",
   "execution_count": 9,
   "metadata": {},
   "outputs": [
    {
     "name": "stdout",
     "output_type": "stream",
     "text": [
      "Es impar\n"
     ]
    }
   ],
   "source": [
    "num= 5\n",
    "if (num % 2 == 1):\n",
    "    print (\"Es impar\")\n",
    "else:\n",
    "    print(\"No es impar\")"
   ]
  },
  {
   "cell_type": "markdown",
   "metadata": {},
   "source": [
    "Importancia en las operaciones (Evaluadas primero)\n",
    "1. Operacion en parentesis \n",
    "2. Exponenciacion\n",
    "3. Multiplicacion\n",
    "4. Division\n",
    "5. Resta\n",
    "6. Suma\n",
    "    \n",
    "Operadores Logicos: nos permiten trabajar con valores booleanos\n",
    "\n",
    "Operador and: evalua si el valor izquierdo y el derecho son verdaderos.\n",
    " Reglas de and:\n",
    "1. true-true= true\n",
    "2. true-false= false\n",
    "3. false-true= false\n",
    "4. false-false= false\n",
    "\n",
    "Ejemplo: \n",
    "if (5 < 6) and (6 > 8):  #false\n",
    "\n",
    "\n",
    "#Operador NOT \n",
    "1. true= false\n",
    "2. false= true\n",
    "        \n",
    "#Importancia: not-true-false\n",
    "    \n",
    "#Operadores Relacionales: comparacion de valores\n",
    "1.   5 > 6 #false\n",
    "2.   10 > 3 #true\n",
    "3. 5 >= 5 #true\n",
    "4. 8 == 8 #true\n",
    "5. 8 != 8 #false (operador distinto)\n",
    "\n",
    "#Operadores de Asignacion\n",
    "\n",
    "1. numm= 2 #asigna el valor a la variable\n",
    "2. edad= 56\n",
    "3. edad +=3 #resultado 59\n",
    "4. edad -=2 #resulatado 54\n",
    "5. edad /=2 #resultado 28"
   ]
  }
 ],
 "metadata": {
  "kernelspec": {
   "display_name": "Python 3",
   "language": "python",
   "name": "python3"
  },
  "language_info": {
   "codemirror_mode": {
    "name": "ipython",
    "version": 3
   },
   "file_extension": ".py",
   "mimetype": "text/x-python",
   "name": "python",
   "nbconvert_exporter": "python",
   "pygments_lexer": "ipython3",
   "version": "3.12.0"
  }
 },
 "nbformat": 4,
 "nbformat_minor": 2
}
