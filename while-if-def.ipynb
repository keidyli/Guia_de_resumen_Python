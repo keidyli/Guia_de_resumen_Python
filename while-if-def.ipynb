{
 "cells": [
  {
   "cell_type": "markdown",
   "metadata": {},
   "source": [
    "1. If: Sentencia Condicional (conjunto de instrucciones booleanas)"
   ]
  },
  {
   "cell_type": "code",
   "execution_count": 1,
   "metadata": {},
   "outputs": [
    {
     "name": "stdout",
     "output_type": "stream",
     "text": [
      "Es mayor\n"
     ]
    }
   ],
   "source": [
    "ope= 20\n",
    "if (ope>10):\n",
    "    print(\"Es mayor\")\n",
    "else:\n",
    "    print(\"no es mayor\")"
   ]
  },
  {
   "cell_type": "code",
   "execution_count": 2,
   "metadata": {},
   "outputs": [
    {
     "name": "stdout",
     "output_type": "stream",
     "text": [
      "Es muy frio\n"
     ]
    }
   ],
   "source": [
    "temp= 0\n",
    "if temp<=0:\n",
    "    print(\"Es muy frio\")\n",
    "elif temp < 25:\n",
    "    print(\"frio\")\n",
    "else:   #solo puede existir una clausula else.\n",
    "    print(\"hace calor\")"
   ]
  },
  {
   "cell_type": "markdown",
   "metadata": {},
   "source": [
    "2. Ciclo WHILE: continua mientras una condicion es verdadera, y si es falsa se detiene."
   ]
  },
  {
   "cell_type": "code",
   "execution_count": null,
   "metadata": {},
   "outputs": [],
   "source": [
    "nummm=8\n",
    "while nummm>0: #no posee variable de control\n",
    "   print(\"Si es mayor que 0\")"
   ]
  },
  {
   "cell_type": "code",
   "execution_count": 5,
   "metadata": {},
   "outputs": [
    {
     "name": "stdout",
     "output_type": "stream",
     "text": [
      "20\n",
      "23\n",
      "26\n",
      "29\n",
      "32\n"
     ]
    }
   ],
   "source": [
    "x= 20\n",
    "while x < 35:\n",
    "   print(x)\n",
    "   x +=3"
   ]
  },
  {
   "cell_type": "markdown",
   "metadata": {},
   "source": [
    "3. FUNCIONES: Bloque de codigo que realiza una o varias tareas especificas."
   ]
  },
  {
   "cell_type": "markdown",
   "metadata": {},
   "source": [
    "Nota: Estructura de una function \n",
    "1. def name_of_function (parametro1, parametro2, ...)\n",
    "2. Operaciones, strings, etc. (dentro de ella)\n",
    "        \n",
    "3. call function (argument1, argumeent2, ...)  -Fuera de ella\n",
    "\n",
    "Especificamente: Los parametros es donde se declaran las variables a utilizar. La segunda fase, es donde realizamos las operaciones o imprimir mensajes. Y por ultimo, llamamos a la funcion y sustituimos los argumentos que se enviaron a los parametros (estos deben ser coherentes con la variable declarada)."
   ]
  },
  {
   "cell_type": "markdown",
   "metadata": {},
   "source": [
    "IMPORTANCIA \n",
    "1. Reutilizable\n",
    "2. Conciso\n",
    "3. Leible\n",
    "4. Mantenible\n",
    "5. Optimizacion \n",
    "6. Limpio"
   ]
  },
  {
   "cell_type": "markdown",
   "metadata": {},
   "source": [
    "Ejemplo 1:"
   ]
  },
  {
   "cell_type": "markdown",
   "metadata": {},
   "source": [
    "Escribe una funcion que sume dos numeros y luego imprima el resultado."
   ]
  },
  {
   "cell_type": "code",
   "execution_count": 7,
   "metadata": {},
   "outputs": [
    {
     "name": "stdout",
     "output_type": "stream",
     "text": [
      "The result of the sum is: 7\n"
     ]
    }
   ],
   "source": [
    "def sumar (num_1, num_2):\n",
    "   s= num_1+ num_2\n",
    "   print(\"The result of the sum is:\",s)\n",
    "\n",
    "sumar(2, 5)"
   ]
  },
  {
   "cell_type": "markdown",
   "metadata": {},
   "source": [
    "Ejemplo 2:"
   ]
  },
  {
   "cell_type": "markdown",
   "metadata": {},
   "source": [
    "Escribe una funcion que determine el resultado de una exponencia de dos numeros. "
   ]
  },
  {
   "cell_type": "code",
   "execution_count": 8,
   "metadata": {},
   "outputs": [
    {
     "name": "stdout",
     "output_type": "stream",
     "text": [
      "25\n"
     ]
    }
   ],
   "source": [
    "def expo (uno, dos):\n",
    "   ex= uno ** dos\n",
    "   print(ex)\n",
    "\n",
    "expo(5, 2)"
   ]
  },
  {
   "cell_type": "markdown",
   "metadata": {},
   "source": [
    "Ejemplo 3:\n",
    "\n",
    "Realiza una funcion que devuelva si un numero es par o impar."
   ]
  },
  {
   "cell_type": "code",
   "execution_count": 9,
   "metadata": {},
   "outputs": [
    {
     "name": "stdout",
     "output_type": "stream",
     "text": [
      "5 Es impar\n",
      "4 Es numero par\n"
     ]
    }
   ],
   "source": [
    "def pares (unoo):\n",
    "   if unoo % 2 == 0:\n",
    "      print(unoo, \"Es numero par\")\n",
    "   else:\n",
    "      print(unoo, \"Es impar\")\n",
    "\n",
    "pares(5)  \n",
    "pares(4)"
   ]
  },
  {
   "cell_type": "markdown",
   "metadata": {},
   "source": [
    "Ejemplo 4:\n",
    "\n",
    "Codifica un programa que sume las cuatro notas de un estudiante y luego muestre su promedio. Realizar el codigo mediante una funcion.\n",
    "\n",
    "nota: debe verificar si el promedio es mayor de 16 estara aprobado el estudiante, de lo contrario, no aprobo la materia."
   ]
  },
  {
   "cell_type": "code",
   "execution_count": 10,
   "metadata": {},
   "outputs": [
    {
     "name": "stdout",
     "output_type": "stream",
     "text": [
      "El promedio es: 18.0\n",
      "El promedio es: 18.0\n",
      "Estas aprobado en la materia\n",
      "El promedio es: 11.5\n",
      "El promedio es: 11.5\n",
      "No aprobo la materia\n"
     ]
    }
   ],
   "source": [
    "def promedio (n1, n2, n3, n4):\n",
    "   pro= (n1+n2+n3+n4) / 4\n",
    "   print (\"El promedio es:\", pro)\n",
    "   print (\"El promedio es:\", pro)\n",
    "   if pro>=16:\n",
    "      print(\"Estas aprobado en la materia\")\n",
    "   else:\n",
    "      print(\"No aprobo la materia\")\n",
    "\n",
    "promedio(15, 18, 19, 20)\n",
    "promedio(10, 12, 11, 13)"
   ]
  },
  {
   "cell_type": "markdown",
   "metadata": {},
   "source": [
    "Ejemplo 5: Algoritmo Fibonacci"
   ]
  },
  {
   "cell_type": "code",
   "execution_count": 11,
   "metadata": {},
   "outputs": [
    {
     "name": "stdout",
     "output_type": "stream",
     "text": [
      "2\n"
     ]
    }
   ],
   "source": [
    "def fibo (n):\n",
    "   if n == 0 or n ==1:\n",
    "      return n\n",
    "   else:\n",
    "      return fibo(n-1) + fibo (n-2)\n",
    "\n",
    "resul= fibo(3)\n",
    "print(resul)\n"
   ]
  }
 ],
 "metadata": {
  "kernelspec": {
   "display_name": "Python 3",
   "language": "python",
   "name": "python3"
  },
  "language_info": {
   "codemirror_mode": {
    "name": "ipython",
    "version": 3
   },
   "file_extension": ".py",
   "mimetype": "text/x-python",
   "name": "python",
   "nbconvert_exporter": "python",
   "pygments_lexer": "ipython3",
   "version": "3.12.0"
  }
 },
 "nbformat": 4,
 "nbformat_minor": 2
}
